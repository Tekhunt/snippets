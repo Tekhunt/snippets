{
 "metadata": {
  "language_info": {
   "codemirror_mode": {
    "name": "ipython",
    "version": 3
   },
   "file_extension": ".py",
   "mimetype": "text/x-python",
   "name": "python",
   "nbconvert_exporter": "python",
   "pygments_lexer": "ipython3",
   "version": "3.8.8"
  },
  "orig_nbformat": 4,
  "kernelspec": {
   "name": "python3",
   "display_name": "Python 3.8.8 64-bit ('base': conda)"
  },
  "interpreter": {
   "hash": "c133197fdfdadc34e42b562f4c9b5d176967e50fd2a2c9cddfcb3ec4669167fe"
  }
 },
 "nbformat": 4,
 "nbformat_minor": 2,
 "cells": [
  {
   "source": [
    "### function to sum two number digit strings.\n",
    "### input should be between 10 & 99\n",
    "### input data must be numeric\n",
    "### sum of splitted input should be one digit\n",
    "### if error occurs, prompt user to imput another number\n",
    "### input must not be floationg point numbers"
   ],
   "cell_type": "markdown",
   "metadata": {}
  },
  {
   "cell_type": "code",
   "execution_count": 15,
   "metadata": {},
   "outputs": [
    {
     "output_type": "stream",
     "name": "stdout",
     "text": [
      "value must be 2 digits\n",
      "Nice try!\n"
     ]
    }
   ],
   "source": [
    "\n",
    "number = input('type a num: ')\n",
    "try: \n",
    "    value = list(number)\n",
    "    result = int(value[0]) + int(value[1])\n",
    "    len_check = len(str(result))\n",
    "    if len(number) == 2:\n",
    "         if len_check == 1:\n",
    "             print('Solved! Value is within range')\n",
    "         else:\n",
    "             print('Value out of range')\n",
    "             number = input('Input value within range')\n",
    "    #elif type(str)\n",
    "    else:\n",
    "        print('value must be 2 digits')\n",
    "        number = input('input 2 digits number')\n",
    "\n",
    "\n",
    "    #print(value)\n",
    "    # print(result)\n",
    "except TypeError:\n",
    "    print('invalid input type')\n",
    "    number = input('input a valid type')\n",
    "except ValueError:\n",
    "     print('Invalid value, try again')\n",
    "     number = input('retry')\n",
    "except IndexError:\n",
    "    print('Please input two digits')\n",
    "    number = input('Input two digits number this time')\n",
    "finally:\n",
    "    print('Nice try!')\n",
    "\n",
    "# while True:\n",
    "#      result = int(value[0]) + int(value[1])\n",
    "#      break\n"
   ]
  },
  {
   "cell_type": "code",
   "execution_count": 18,
   "metadata": {},
   "outputs": [],
   "source": [
    "def some_function():\n",
    "    try:\n",
    "        #logic to load the page. If it is successful, it will not go to except.\n",
    "        return True\n",
    "    except:\n",
    "        #will come to this clause when page will throw error.\n",
    "        return False\n",
    "    \n",
    "    \n",
    "while(True):\n",
    "    if some_function():\n",
    "        break\n",
    "    else:\n",
    "        time.sleep(2)\n",
    "        continue"
   ]
  },
  {
   "source": [
    "y = li"
   ],
   "cell_type": "markdown",
   "metadata": {}
  },
  {
   "cell_type": "code",
   "execution_count": 48,
   "metadata": {},
   "outputs": [
    {
     "output_type": "execute_result",
     "data": {
      "text/plain": [
       "['g', 'h']"
      ]
     },
     "metadata": {},
     "execution_count": 48
    }
   ],
   "source": [
    "lst"
   ]
  },
  {
   "cell_type": "code",
   "execution_count": 19,
   "metadata": {},
   "outputs": [
    {
     "output_type": "error",
     "ename": "SyntaxError",
     "evalue": "invalid syntax (<ipython-input-19-6d22151c7f50>, line 3)",
     "traceback": [
      "\u001b[0;36m  File \u001b[0;32m\"<ipython-input-19-6d22151c7f50>\"\u001b[0;36m, line \u001b[0;32m3\u001b[0m\n\u001b[0;31m    while number.isalpha or len(number) >2 0r len(number)<2 or '.' in number:\u001b[0m\n\u001b[0m                                           ^\u001b[0m\n\u001b[0;31mSyntaxError\u001b[0m\u001b[0;31m:\u001b[0m invalid syntax\n"
     ]
    }
   ],
   "source": [
    "number = input('Enter value')\n",
    "\n",
    "while number.isalpha or len(number) >2 or len(number)<2 or '.' in number:\n",
    "    if number.isdecimal():\n",
    "        number = input()\n",
    "    elif '.' in number or number[0] == '.':\n",
    "        number = input()\n",
    "    elif len(number) > 2 or len(number) < 2:\n",
    "        number = input()\n",
    "    elif number[0] == '-':\n",
    "        number = input()\n",
    "        \n",
    "sum_of_numbers = int(number[0]) + int(number[1])\n",
    "while sum_of_numbers > 9:\n",
    "    number = input()\n",
    "print(sum_of_numbers)\n"
   ]
  },
  {
   "cell_type": "code",
   "execution_count": null,
   "metadata": {},
   "outputs": [],
   "source": []
  },
  {
   "source": [
    "### Palindrome assignment"
   ],
   "cell_type": "markdown",
   "metadata": {}
  },
  {
   "cell_type": "code",
   "execution_count": 1,
   "metadata": {},
   "outputs": [
    {
     "output_type": "execute_result",
     "data": {
      "text/plain": [
       "'Is Palindrome'"
      ]
     },
     "metadata": {},
     "execution_count": 1
    }
   ],
   "source": [
    "def palindrom(string):\n",
    "    string = string.casefold()\n",
    "    new_string = reversed(string)\n",
    "    if list(string) == list(new_string):\n",
    "        return 'Is Palindrome'\n",
    "    else:\n",
    "\n",
    "    \n",
    "        return 'not Palindrome'\n",
    "\n",
    "palindrom('ada')"
   ]
  },
  {
   "source": [
    "### Life span"
   ],
   "cell_type": "markdown",
   "metadata": {}
  },
  {
   "cell_type": "code",
   "execution_count": 41,
   "metadata": {},
   "outputs": [
    {
     "output_type": "execute_result",
     "data": {
      "text/plain": [
       "'If you should live for 90 years, you have 65 years, 780 months, 3120 weeks and 21840 days remaining'"
      ]
     },
     "metadata": {},
     "execution_count": 41
    }
   ],
   "source": [
    "def half_life(current_year, span):\n",
    "    #Current parameters\n",
    "    current_month = current_year*12\n",
    "    current_week = current_month*4\n",
    "    current_day = current_week*7\n",
    "    #half_life parameters\n",
    "    span_month = span*12\n",
    "    span_week = span_month*4\n",
    "    span_day = span_week*7\n",
    "    #params at half_life\n",
    "    year_remaining = span-current_year\n",
    "    month_remaining = span_month-current_month\n",
    "    weeks_remaining = span_week-current_week\n",
    "    days_remaining = span_day-current_day\n",
    "    return f'If you should live for {span} years, you have {year_remaining} years, {month_remaining} months, {weeks_remaining} weeks and {days_remaining} days remaining' \n",
    "\n",
    "half_life(25,90)\n"
   ]
  },
  {
   "cell_type": "code",
   "execution_count": 26,
   "metadata": {},
   "outputs": [],
   "source": [
    "class House:\n",
    "    def __init__(self, size, color, location):\n",
    "        self.size = size\n",
    "        self.color = color\n",
    "        self.location = location\n",
    "    def cost(self):\n",
    "            return f'Houses located at {self.location} cost roughly 1m'\n",
    "\n",
    "class Room(House):\n",
    "    # def __init__(self, size, color, location, dimension):\n",
    "    #     super().__init__( self,size, color, location)\n",
    "    #     self.dimension = dimension\n",
    "    def comfort(self):\n",
    "        return f'Room of size {self.size} will provide the needed comfort for a couple'\n"
   ]
  },
  {
   "cell_type": "code",
   "execution_count": null,
   "metadata": {},
   "outputs": [],
   "source": []
  },
  {
   "cell_type": "code",
   "execution_count": null,
   "metadata": {},
   "outputs": [],
   "source": []
  },
  {
   "cell_type": "code",
   "execution_count": 27,
   "metadata": {},
   "outputs": [],
   "source": [
    "dulax = House('Duplex', 'milk', 'GRA')\n",
    "chill = Room('Bungalo', 'horse_blood', 'Benin')\n",
    "dulax.dimension = '12x12'"
   ]
  },
  {
   "cell_type": "code",
   "execution_count": 31,
   "metadata": {},
   "outputs": [
    {
     "output_type": "stream",
     "name": "stdout",
     "text": [
      "{'size': 'Bungalo', 'color': 'horse_blood', 'location': 'Benin'} \n\n{'size': 'Duplex', 'color': 'milk', 'location': 'GRA', 'dimension': '12x12'} \n\n"
     ]
    }
   ],
   "source": [
    "print(chill.__dict__, '\\n')\n",
    "print(dulax.__dict__, '\\n')"
   ]
  },
  {
   "cell_type": "code",
   "execution_count": 33,
   "metadata": {},
   "outputs": [
    {
     "output_type": "execute_result",
     "data": {
      "text/plain": [
       "False"
      ]
     },
     "metadata": {},
     "execution_count": 33
    }
   ],
   "source": [
    "'dimension' in (chill.__dict__)"
   ]
  },
  {
   "cell_type": "code",
   "execution_count": 35,
   "metadata": {},
   "outputs": [
    {
     "output_type": "execute_result",
     "data": {
      "text/plain": [
       "'Houses located at Benin cost roughly 1m'"
      ]
     },
     "metadata": {},
     "execution_count": 35
    }
   ],
   "source": [
    "chill.cost()"
   ]
  },
  {
   "source": [
    "dulax.location\n",
    "chill.size\n",
    "dulax.dimension\n"
   ],
   "cell_type": "code",
   "metadata": {},
   "execution_count": 14,
   "outputs": [
    {
     "output_type": "execute_result",
     "data": {
      "text/plain": [
       "'12x12'"
      ]
     },
     "metadata": {},
     "execution_count": 14
    }
   ]
  },
  {
   "cell_type": "code",
   "execution_count": 15,
   "metadata": {},
   "outputs": [
    {
     "output_type": "execute_result",
     "data": {
      "text/plain": [
       "'Bungalo'"
      ]
     },
     "metadata": {},
     "execution_count": 15
    }
   ],
   "source": [
    "chill.size"
   ]
  },
  {
   "cell_type": "code",
   "execution_count": 10,
   "metadata": {},
   "outputs": [
    {
     "output_type": "execute_result",
     "data": {
      "text/plain": [
       "'12x12'"
      ]
     },
     "metadata": {},
     "execution_count": 10
    }
   ],
   "source": [
    "dulax.dim"
   ]
  },
  {
   "cell_type": "code",
   "execution_count": 37,
   "metadata": {},
   "outputs": [
    {
     "output_type": "stream",
     "name": "stdout",
     "text": [
      "your name is Tobi\n",
      "your password is tobi\n"
     ]
    }
   ],
   "source": [
    "from getpass import getpass\n",
    "name = input('type name')\n",
    "print(f'your name is {name}')\n",
    "pwd = getpass('Password?')\n",
    "print(f'your password is {pwd}')"
   ]
  },
  {
   "cell_type": "code",
   "execution_count": null,
   "metadata": {},
   "outputs": [],
   "source": []
  },
  {
   "cell_type": "code",
   "execution_count": null,
   "metadata": {},
   "outputs": [],
   "source": [
    "from getpass import getpass\n",
    "name = input('Please type your full name')\n",
    "title = input('Type your title')\n",
    "password = getpass('Please type a 4 digits password')\n",
    "class Atm_operations:\n",
    "    def __init__(self, name, title, password):\n",
    "        self.name = name\n",
    "        self.bank = 'Zenith Bank'\n",
    "        self.title = title\n",
    "        self.password = password\n",
    "    def welcome_message(self):\n",
    "        return f'Welcome to {self.bank} {self.title} {self.name}'\n",
    "\n",
    "    def validate_password(self):\n",
    "        password_validate = getpass('Please type your password')\n",
    "        while password_validate != self.password:\n",
    "            print('You are succesfully logged in')\n",
    "            password = getpass('Please type a correct password')\n",
    "        # pwd = getpass('input your password')\n",
    "        # while len(pwd) == 4 and pwd.isalpha() == False:\n",
    "        #     pwd = getpass('Please input correct password')\n",
    "        #     print('Successfully logged in!')"
   ]
  }
 ]
}