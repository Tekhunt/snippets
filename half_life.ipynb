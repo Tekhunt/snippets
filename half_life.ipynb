{
 "metadata": {
  "language_info": {
   "codemirror_mode": {
    "name": "ipython",
    "version": 3
   },
   "file_extension": ".py",
   "mimetype": "text/x-python",
   "name": "python",
   "nbconvert_exporter": "python",
   "pygments_lexer": "ipython3",
   "version": 3
  },
  "orig_nbformat": 4
 },
 "nbformat": 4,
 "nbformat_minor": 2,
 "cells": [
  {
   "cell_type": "code",
   "execution_count": null,
   "metadata": {},
   "outputs": [],
   "source": [
    "def half_life(current_year, span):\n",
    "    #Current parameters\n",
    "    current_month = current_year*12\n",
    "    current_week = current_month*4\n",
    "    current_day = current_week*7\n",
    "    #half_life parameters\n",
    "    span_month = span*12\n",
    "    span_week = span_month*4\n",
    "    span_day = span_week*7\n",
    "    #params at half_life\n",
    "    year_remaining = span-current_year\n",
    "    month_remaining = span_month-current_month\n",
    "    weeks_remaining = span_week-current_week\n",
    "    days_remaining = span_day-current_day\n",
    "    return f'If you should live for {span} years, you have {year_remaining} years, {month_remaining} months, {weeks_remaining} weeks and {days_remaining} days remaining' \n",
    "\n",
    "half_life(25,90)\n"
   ]
  },
  {
   "source": [
    "## USSD self service assignment\n",
    "\n",
    "### Requirements\n",
    "\n",
    "#### Buy airtime\n",
    "#### Check balance\n",
    "#### Transfer fund between Nigeria numbers\n",
    "\n",
    "### Constaints\n",
    "\n",
    "#### Collect only Nigeria numbers\n",
    "#### Balance must reflect the correct value after each operation.\n",
    "\n",
    "\n",
    "\n",
    "\n"
   ],
   "cell_type": "markdown",
   "metadata": {}
  },
  {
   "cell_type": "code",
   "execution_count": null,
   "metadata": {},
   "outputs": [],
   "source": [
    "import sys\n",
    "initial_amount = 5000\n",
    "def welcome():\n",
    "    print('Hi decadev! Welcome to Decagon USSD self-service\\n')\n",
    "    t_code()\n",
    "\n"
   ]
  },
  {
   "cell_type": "code",
   "execution_count": null,
   "metadata": {},
   "outputs": [],
   "source": [
    "def t_code():\n",
    "    option = input('Please dial *128# to access your self service options')\n",
    "    if option == '0':\n",
    "        sys.exit('Thank you for choosing Decagon!')\n",
    "        else:\n",
    "            while option != '*128#':\n",
    "                print('Please type correct values')\n",
    "                option = input('Please dial *128# to access your self service options')\n",
    "                ussd_services()\n",
    "    \n",
    "    "
   ]
  },
  {
   "cell_type": "code",
   "execution_count": null,
   "metadata": {},
   "outputs": [],
   "source": [
    "def ussd_services():\n",
    "    print('Select 1 to buy airtime')\n",
    "    print('Select 2 to check airtime balance')\n",
    "    print('Select 3 to transfer airtime')\n",
    "    services = input(':')\n",
    "\n",
    "    if services = '1':\n",
    "        buy_airtime()\n",
    "    elif services == '2':\n",
    "        checkBalance()\n",
    "    elif services == '3':\n",
    "        transfer()\n",
    "    else:\n",
    "        print('Invalid input! Type Yes to retry or No to quit')\n",
    "        loop = input(':')\n",
    "        if loop == 'Yes':\n",
    "            ussd_services()\n",
    "        else: \n",
    "            sys.exit('Thank you for choosing Decagon!')\n"
   ]
  },
  {
   "cell_type": "code",
   "execution_count": null,
   "metadata": {},
   "outputs": [],
   "source": [
    "def buy_airtime():\n",
    "    global purchase_amount\n",
    "    purchase_amount = input('Input amount')\n",
    "    print('Congratulations! Your account has been credited with N{amount}')\n",
    "    loop2 = input('Select 4 to perform another or press any other key to exit')\n",
    "    if loop2 == 4:\n",
    "        ussd_service()\n",
    "    else:\n",
    "        sys.exit('Thank you for choosing Decagon!')\n"
   ]
  },
  {
   "cell_type": "code",
   "execution_count": null,
   "metadata": {},
   "outputs": [],
   "source": [
    "def checkBalance():\n",
    "   airtime_balance =  initial_amount + purchase_amount - transfered_amount\n",
    "   print('Your airtime balance is: {airtime_balance}')\n",
    "   loop3 = input('Select 5 to perform another or press any other key to exit')\n",
    "    if loop3 == 5:\n",
    "        ussd_service()\n",
    "    else:\n",
    "        sys.exit('Thank you for choosing Decagon!')"
   ]
  },
  {
   "cell_type": "code",
   "execution_count": null,
   "metadata": {},
   "outputs": [],
   "source": [
    "def transfer_airtime():\n",
    "    transfer_amount = int(input('Please type amount: '))\n",
    "    recipient_number = input(\"Please type reciever's number\")\n",
    "    while type(transfer_amount) != int:\n",
    "        print('Please input correct amount')\n",
    "        transfer_amount = int(input('Please type amount: '))\n",
    "    if (recipient_number[:4] == '+234' or len(recipient_number) == 14) or (len('+234' + str(recipient_number[1:]) == 14) and recipient_number.startswith('080', '081', '070', '090', '091',)):\n",
    "        print('{transfer_amount} has been transfered to {recipient_number}')\n",
    "    else:\n",
    "        print('Input not recognised')\n",
    "        loop4 = input('type 7 to retry and type any other key to exit quit: ')\n",
    "        if loop4 == '7':\n",
    "            ussd_services()\n",
    "        else:\n",
    "            sys.exit('Thank you for choosing Decagon')\n",
    "            \n",
    "\n"
   ]
  }
 ]
}