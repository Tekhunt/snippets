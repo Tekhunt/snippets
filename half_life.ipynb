{
 "metadata": {
  "language_info": {
   "codemirror_mode": {
    "name": "ipython",
    "version": 3
   },
   "file_extension": ".py",
   "mimetype": "text/x-python",
   "name": "python",
   "nbconvert_exporter": "python",
   "pygments_lexer": "ipython3",
   "version": 3
  },
  "orig_nbformat": 4
 },
 "nbformat": 4,
 "nbformat_minor": 2,
 "cells": [
  {
   "cell_type": "code",
   "execution_count": null,
   "metadata": {},
   "outputs": [],
   "source": [
    "def half_life(current_year, span):\n",
    "    #Current parameters\n",
    "    current_month = current_year*12\n",
    "    current_week = current_month*4\n",
    "    current_day = current_week*7\n",
    "    #half_life parameters\n",
    "    span_month = span*12\n",
    "    span_week = span_month*4\n",
    "    span_day = span_week*7\n",
    "    #params at half_life\n",
    "    year_remaining = span-current_year\n",
    "    month_remaining = span_month-current_month\n",
    "    weeks_remaining = span_week-current_week\n",
    "    days_remaining = span_day-current_day\n",
    "    return f'If you should live for {span} years, you have {year_remaining} years, {month_remaining} months, {weeks_remaining} weeks and {days_remaining} days remaining' \n",
    "\n",
    "half_life(25,90)\n"
   ]
  }
 ]
}